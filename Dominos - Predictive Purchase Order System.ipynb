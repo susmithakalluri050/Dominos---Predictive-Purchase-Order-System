{
 "cells": [
  {
   "cell_type": "markdown",
   "id": "97fb1253-2094-47d5-8794-a5898917b630",
   "metadata": {},
   "source": [
    "**Importing Libraries**\n"
   ]
  },
  {
   "cell_type": "code",
   "execution_count": 41,
   "id": "68f9e73a-9068-4872-8cef-b529a81bee11",
   "metadata": {},
   "outputs": [],
   "source": [
    "import pandas as pd\n",
    "from matplotlib import pyplot as plt\n",
    "import seaborn as sns\n",
    "import warnings\n",
    "# Suppressing the  warnings\n",
    "warnings.filterwarnings(\"ignore\")\n"
   ]
  },
  {
   "cell_type": "markdown",
   "id": "0cbeb51e-5d44-4fb7-a310-72c0c9017972",
   "metadata": {},
   "source": [
    "**Importing Data Sets**"
   ]
  },
  {
   "cell_type": "code",
   "execution_count": 42,
   "id": "555f0746-e33a-4cb8-bf15-de4446fb66ed",
   "metadata": {},
   "outputs": [],
   "source": [
    "\n",
    "Pizza_ingredients = pd.read_csv(\"Pizza_ingredients - Pizza_ingredients.csv\")\n",
    "Pizza_Sale = pd.read_csv(\"Pizza_Sale - pizza_sales.csv\")"
   ]
  },
  {
   "cell_type": "markdown",
   "id": "c14cb1f4-0068-49b0-ba71-9a3838d1e457",
   "metadata": {},
   "source": [
    "**Understanding the Data**"
   ]
  },
  {
   "cell_type": "code",
   "execution_count": 43,
   "id": "5984c2e4-8511-405d-8e0d-42b3375c5bdb",
   "metadata": {},
   "outputs": [
    {
     "data": {
      "text/plain": [
       "pizza_name_id         0\n",
       "pizza_name            0\n",
       "pizza_ingredients     0\n",
       "Items_Qty_In_Grams    4\n",
       "dtype: int64"
      ]
     },
     "execution_count": 43,
     "metadata": {},
     "output_type": "execute_result"
    }
   ],
   "source": [
    "Pizza_ingredients.isnull().sum()"
   ]
  },
  {
   "cell_type": "code",
   "execution_count": 44,
   "id": "fec15cc1-c50a-489d-a0e1-ccda08fab871",
   "metadata": {},
   "outputs": [
    {
     "data": {
      "text/plain": [
       "pizza_name_id          object\n",
       "pizza_name             object\n",
       "pizza_ingredients      object\n",
       "Items_Qty_In_Grams    float64\n",
       "dtype: object"
      ]
     },
     "execution_count": 44,
     "metadata": {},
     "output_type": "execute_result"
    }
   ],
   "source": [
    "Pizza_ingredients.dtypes"
   ]
  },
  {
   "cell_type": "code",
   "execution_count": 45,
   "id": "bc4baaf9-4324-4c22-8fe9-76a1767dbb2c",
   "metadata": {},
   "outputs": [
    {
     "data": {
      "text/plain": [
       "pizza_id              0\n",
       "order_id              0\n",
       "pizza_name_id        16\n",
       "quantity              0\n",
       "order_date            0\n",
       "order_time            0\n",
       "unit_price            0\n",
       "total_price           7\n",
       "pizza_size            0\n",
       "pizza_category       23\n",
       "pizza_ingredients    13\n",
       "pizza_name            7\n",
       "dtype: int64"
      ]
     },
     "execution_count": 45,
     "metadata": {},
     "output_type": "execute_result"
    }
   ],
   "source": [
    "Pizza_Sale.isnull().sum()"
   ]
  },
  {
   "cell_type": "code",
   "execution_count": 46,
   "id": "cb04e9c9-5bfa-4f9f-89d1-ed880bb05872",
   "metadata": {},
   "outputs": [
    {
     "data": {
      "text/plain": [
       "pizza_id               int64\n",
       "order_id               int64\n",
       "pizza_name_id         object\n",
       "quantity               int64\n",
       "order_date            object\n",
       "order_time            object\n",
       "unit_price           float64\n",
       "total_price          float64\n",
       "pizza_size            object\n",
       "pizza_category        object\n",
       "pizza_ingredients     object\n",
       "pizza_name            object\n",
       "dtype: object"
      ]
     },
     "execution_count": 46,
     "metadata": {},
     "output_type": "execute_result"
    }
   ],
   "source": [
    "Pizza_Sale.dtypes"
   ]
  },
  {
   "cell_type": "code",
   "execution_count": 47,
   "id": "3141d310-4c4a-4541-87b9-f550a92a2ab4",
   "metadata": {},
   "outputs": [],
   "source": [
    "def parse_date(date_str):\n",
    "    for fmt in ('%Y-%m-%d', '%d-%m-%Y'):\n",
    "        try:\n",
    "            return pd.to_datetime(date_str, format=fmt)\n",
    "        except ValueError:\n",
    "            continue\n",
    "    return pd.NaT  # Return Not a Time if parsing fails\n",
    "Pizza_Sale['order_date'] = Pizza_Sale['order_date'].apply(parse_date)\n",
    "Pizza_Sale['order_date'] = Pizza_Sale['order_date'].dt.strftime('%m/%d/%Y')\n",
    "Pizza_Sale['order_date'] = pd.to_datetime(Pizza_Sale['order_date'])"
   ]
  },
  {
   "cell_type": "code",
   "execution_count": 48,
   "id": "8103d97a-826f-4af5-9a83-803e07a4c3ee",
   "metadata": {},
   "outputs": [
    {
     "data": {
      "text/plain": [
       "pizza_id                      int64\n",
       "order_id                      int64\n",
       "pizza_name_id                object\n",
       "quantity                      int64\n",
       "order_date           datetime64[ns]\n",
       "order_time                   object\n",
       "unit_price                  float64\n",
       "total_price                 float64\n",
       "pizza_size                   object\n",
       "pizza_category               object\n",
       "pizza_ingredients            object\n",
       "pizza_name                   object\n",
       "dtype: object"
      ]
     },
     "execution_count": 48,
     "metadata": {},
     "output_type": "execute_result"
    }
   ],
   "source": [
    "Pizza_Sale.dtypes"
   ]
  },
  {
   "cell_type": "code",
   "execution_count": 49,
   "id": "f1b43439-9d68-47d7-b442-07572da5a6ac",
   "metadata": {},
   "outputs": [],
   "source": [
    "Pizza_Sale.dropna(inplace=True)\n",
    "Pizza_ingredients.dropna(inplace=True)"
   ]
  },
  {
   "cell_type": "code",
   "execution_count": 50,
   "id": "49ec5bc7-92a9-43bb-a0f4-51ee4ffa4076",
   "metadata": {},
   "outputs": [
    {
     "data": {
      "text/html": [
       "<div>\n",
       "<style scoped>\n",
       "    .dataframe tbody tr th:only-of-type {\n",
       "        vertical-align: middle;\n",
       "    }\n",
       "\n",
       "    .dataframe tbody tr th {\n",
       "        vertical-align: top;\n",
       "    }\n",
       "\n",
       "    .dataframe thead th {\n",
       "        text-align: right;\n",
       "    }\n",
       "</style>\n",
       "<table border=\"1\" class=\"dataframe\">\n",
       "  <thead>\n",
       "    <tr style=\"text-align: right;\">\n",
       "      <th></th>\n",
       "      <th>pizza_id</th>\n",
       "      <th>order_id</th>\n",
       "      <th>pizza_name_id</th>\n",
       "      <th>quantity</th>\n",
       "      <th>order_date</th>\n",
       "      <th>order_time</th>\n",
       "      <th>unit_price</th>\n",
       "      <th>total_price</th>\n",
       "      <th>pizza_size</th>\n",
       "      <th>pizza_category</th>\n",
       "      <th>pizza_ingredients</th>\n",
       "      <th>pizza_name</th>\n",
       "    </tr>\n",
       "  </thead>\n",
       "  <tbody>\n",
       "    <tr>\n",
       "      <th>1650</th>\n",
       "      <td>1651</td>\n",
       "      <td>737</td>\n",
       "      <td>bbq_ckn_m</td>\n",
       "      <td>1</td>\n",
       "      <td>2015-01-13</td>\n",
       "      <td>11:31:34</td>\n",
       "      <td>16.75</td>\n",
       "      <td>16.75</td>\n",
       "      <td>M</td>\n",
       "      <td>Chicken</td>\n",
       "      <td>Barbecued Chicken, Red Peppers, Green Peppers,...</td>\n",
       "      <td>The Barbecue Chicken Pizza</td>\n",
       "    </tr>\n",
       "    <tr>\n",
       "      <th>1651</th>\n",
       "      <td>1652</td>\n",
       "      <td>737</td>\n",
       "      <td>thai_ckn_m</td>\n",
       "      <td>1</td>\n",
       "      <td>2015-01-13</td>\n",
       "      <td>11:31:34</td>\n",
       "      <td>16.75</td>\n",
       "      <td>16.75</td>\n",
       "      <td>M</td>\n",
       "      <td>Chicken</td>\n",
       "      <td>Chicken, Pineapple, Tomatoes, Red Peppers, Tha...</td>\n",
       "      <td>The Thai Chicken Pizza</td>\n",
       "    </tr>\n",
       "    <tr>\n",
       "      <th>1652</th>\n",
       "      <td>1653</td>\n",
       "      <td>738</td>\n",
       "      <td>southw_ckn_m</td>\n",
       "      <td>1</td>\n",
       "      <td>2015-01-13</td>\n",
       "      <td>12:16:47</td>\n",
       "      <td>16.75</td>\n",
       "      <td>16.75</td>\n",
       "      <td>M</td>\n",
       "      <td>Chicken</td>\n",
       "      <td>Chicken, Tomatoes, Red Peppers, Red Onions, Ja...</td>\n",
       "      <td>The Southwest Chicken Pizza</td>\n",
       "    </tr>\n",
       "    <tr>\n",
       "      <th>1653</th>\n",
       "      <td>1654</td>\n",
       "      <td>739</td>\n",
       "      <td>big_meat_s</td>\n",
       "      <td>1</td>\n",
       "      <td>2015-01-13</td>\n",
       "      <td>12:19:38</td>\n",
       "      <td>12.00</td>\n",
       "      <td>12.00</td>\n",
       "      <td>S</td>\n",
       "      <td>Classic</td>\n",
       "      <td>Bacon, Pepperoni, Italian Sausage, Chorizo Sau...</td>\n",
       "      <td>The Big Meat Pizza</td>\n",
       "    </tr>\n",
       "    <tr>\n",
       "      <th>1654</th>\n",
       "      <td>1655</td>\n",
       "      <td>740</td>\n",
       "      <td>cali_ckn_m</td>\n",
       "      <td>1</td>\n",
       "      <td>2015-01-13</td>\n",
       "      <td>12:29:51</td>\n",
       "      <td>16.75</td>\n",
       "      <td>16.75</td>\n",
       "      <td>M</td>\n",
       "      <td>Chicken</td>\n",
       "      <td>Chicken, Artichoke, Spinach, Garlic, Jalapeno ...</td>\n",
       "      <td>The California Chicken Pizza</td>\n",
       "    </tr>\n",
       "  </tbody>\n",
       "</table>\n",
       "</div>"
      ],
      "text/plain": [
       "      pizza_id  order_id pizza_name_id  quantity order_date order_time  \\\n",
       "1650      1651       737     bbq_ckn_m         1 2015-01-13   11:31:34   \n",
       "1651      1652       737    thai_ckn_m         1 2015-01-13   11:31:34   \n",
       "1652      1653       738  southw_ckn_m         1 2015-01-13   12:16:47   \n",
       "1653      1654       739    big_meat_s         1 2015-01-13   12:19:38   \n",
       "1654      1655       740    cali_ckn_m         1 2015-01-13   12:29:51   \n",
       "\n",
       "      unit_price  total_price pizza_size pizza_category  \\\n",
       "1650       16.75        16.75          M        Chicken   \n",
       "1651       16.75        16.75          M        Chicken   \n",
       "1652       16.75        16.75          M        Chicken   \n",
       "1653       12.00        12.00          S        Classic   \n",
       "1654       16.75        16.75          M        Chicken   \n",
       "\n",
       "                                      pizza_ingredients  \\\n",
       "1650  Barbecued Chicken, Red Peppers, Green Peppers,...   \n",
       "1651  Chicken, Pineapple, Tomatoes, Red Peppers, Tha...   \n",
       "1652  Chicken, Tomatoes, Red Peppers, Red Onions, Ja...   \n",
       "1653  Bacon, Pepperoni, Italian Sausage, Chorizo Sau...   \n",
       "1654  Chicken, Artichoke, Spinach, Garlic, Jalapeno ...   \n",
       "\n",
       "                        pizza_name  \n",
       "1650    The Barbecue Chicken Pizza  \n",
       "1651        The Thai Chicken Pizza  \n",
       "1652   The Southwest Chicken Pizza  \n",
       "1653            The Big Meat Pizza  \n",
       "1654  The California Chicken Pizza  "
      ]
     },
     "execution_count": 50,
     "metadata": {},
     "output_type": "execute_result"
    }
   ],
   "source": [
    "Pizza_Sale.head()"
   ]
  },
  {
   "cell_type": "code",
   "execution_count": 51,
   "id": "6678d810-90d9-43c6-9269-4c58fe7338a4",
   "metadata": {},
   "outputs": [
    {
     "data": {
      "text/plain": [
       "Index(['pizza_id', 'order_id', 'pizza_name_id', 'quantity', 'order_date',\n",
       "       'order_time', 'unit_price', 'total_price', 'pizza_size',\n",
       "       'pizza_category', 'pizza_ingredients', 'pizza_name'],\n",
       "      dtype='object')"
      ]
     },
     "execution_count": 51,
     "metadata": {},
     "output_type": "execute_result"
    }
   ],
   "source": [
    "Pizza_Sale.columns"
   ]
  },
  {
   "cell_type": "code",
   "execution_count": 52,
   "id": "4547e286-3ba4-4cf9-bfc9-cf28596b3288",
   "metadata": {},
   "outputs": [
    {
     "data": {
      "text/html": [
       "<div>\n",
       "<style scoped>\n",
       "    .dataframe tbody tr th:only-of-type {\n",
       "        vertical-align: middle;\n",
       "    }\n",
       "\n",
       "    .dataframe tbody tr th {\n",
       "        vertical-align: top;\n",
       "    }\n",
       "\n",
       "    .dataframe thead th {\n",
       "        text-align: right;\n",
       "    }\n",
       "</style>\n",
       "<table border=\"1\" class=\"dataframe\">\n",
       "  <thead>\n",
       "    <tr style=\"text-align: right;\">\n",
       "      <th></th>\n",
       "      <th>pizza_name_id</th>\n",
       "      <th>pizza_name</th>\n",
       "      <th>pizza_ingredients</th>\n",
       "      <th>Items_Qty_In_Grams</th>\n",
       "    </tr>\n",
       "  </thead>\n",
       "  <tbody>\n",
       "    <tr>\n",
       "      <th>0</th>\n",
       "      <td>bbq_ckn_l</td>\n",
       "      <td>The Barbecue Chicken Pizza</td>\n",
       "      <td>Barbecued Chicken</td>\n",
       "      <td>40.0</td>\n",
       "    </tr>\n",
       "    <tr>\n",
       "      <th>1</th>\n",
       "      <td>bbq_ckn_l</td>\n",
       "      <td>The Barbecue Chicken Pizza</td>\n",
       "      <td>Red Peppers</td>\n",
       "      <td>15.0</td>\n",
       "    </tr>\n",
       "    <tr>\n",
       "      <th>2</th>\n",
       "      <td>bbq_ckn_l</td>\n",
       "      <td>The Barbecue Chicken Pizza</td>\n",
       "      <td>Green Peppers</td>\n",
       "      <td>20.0</td>\n",
       "    </tr>\n",
       "    <tr>\n",
       "      <th>3</th>\n",
       "      <td>bbq_ckn_l</td>\n",
       "      <td>The Barbecue Chicken Pizza</td>\n",
       "      <td>Tomatoes</td>\n",
       "      <td>30.0</td>\n",
       "    </tr>\n",
       "    <tr>\n",
       "      <th>4</th>\n",
       "      <td>bbq_ckn_l</td>\n",
       "      <td>The Barbecue Chicken Pizza</td>\n",
       "      <td>Red Onions</td>\n",
       "      <td>60.0</td>\n",
       "    </tr>\n",
       "  </tbody>\n",
       "</table>\n",
       "</div>"
      ],
      "text/plain": [
       "  pizza_name_id                  pizza_name  pizza_ingredients  \\\n",
       "0     bbq_ckn_l  The Barbecue Chicken Pizza  Barbecued Chicken   \n",
       "1     bbq_ckn_l  The Barbecue Chicken Pizza        Red Peppers   \n",
       "2     bbq_ckn_l  The Barbecue Chicken Pizza      Green Peppers   \n",
       "3     bbq_ckn_l  The Barbecue Chicken Pizza           Tomatoes   \n",
       "4     bbq_ckn_l  The Barbecue Chicken Pizza         Red Onions   \n",
       "\n",
       "   Items_Qty_In_Grams  \n",
       "0                40.0  \n",
       "1                15.0  \n",
       "2                20.0  \n",
       "3                30.0  \n",
       "4                60.0  "
      ]
     },
     "execution_count": 52,
     "metadata": {},
     "output_type": "execute_result"
    }
   ],
   "source": [
    "Pizza_ingredients.head()"
   ]
  },
  {
   "cell_type": "code",
   "execution_count": 53,
   "id": "e3b6a4d5-bed6-4c35-b15c-92c117139a05",
   "metadata": {},
   "outputs": [],
   "source": [
    "sales_df = Pizza_Sale\n",
    "ingredients_df = Pizza_ingredients\n",
    "\n",
    "merged_df = pd.merge(sales_df[['pizza_id', 'order_id', 'quantity', 'order_date',\n",
    "       'order_time', 'unit_price', 'total_price', 'pizza_size',\n",
    "       'pizza_category', 'pizza_name']], ingredients_df, how='left', on='pizza_name')"
   ]
  },
  {
   "cell_type": "code",
   "execution_count": 54,
   "id": "bc3f448f-5565-4ec7-af4a-4bb304bbf503",
   "metadata": {},
   "outputs": [
    {
     "data": {
      "text/html": [
       "<div>\n",
       "<style scoped>\n",
       "    .dataframe tbody tr th:only-of-type {\n",
       "        vertical-align: middle;\n",
       "    }\n",
       "\n",
       "    .dataframe tbody tr th {\n",
       "        vertical-align: top;\n",
       "    }\n",
       "\n",
       "    .dataframe thead th {\n",
       "        text-align: right;\n",
       "    }\n",
       "</style>\n",
       "<table border=\"1\" class=\"dataframe\">\n",
       "  <thead>\n",
       "    <tr style=\"text-align: right;\">\n",
       "      <th></th>\n",
       "      <th>pizza_id</th>\n",
       "      <th>order_id</th>\n",
       "      <th>quantity</th>\n",
       "      <th>order_date</th>\n",
       "      <th>order_time</th>\n",
       "      <th>unit_price</th>\n",
       "      <th>total_price</th>\n",
       "      <th>pizza_size</th>\n",
       "      <th>pizza_category</th>\n",
       "      <th>pizza_name</th>\n",
       "      <th>pizza_name_id</th>\n",
       "      <th>pizza_ingredients</th>\n",
       "      <th>Items_Qty_In_Grams</th>\n",
       "    </tr>\n",
       "  </thead>\n",
       "  <tbody>\n",
       "    <tr>\n",
       "      <th>0</th>\n",
       "      <td>1651</td>\n",
       "      <td>737</td>\n",
       "      <td>1</td>\n",
       "      <td>2015-01-13</td>\n",
       "      <td>11:31:34</td>\n",
       "      <td>16.75</td>\n",
       "      <td>16.75</td>\n",
       "      <td>M</td>\n",
       "      <td>Chicken</td>\n",
       "      <td>The Barbecue Chicken Pizza</td>\n",
       "      <td>bbq_ckn_l</td>\n",
       "      <td>Barbecued Chicken</td>\n",
       "      <td>40.0</td>\n",
       "    </tr>\n",
       "    <tr>\n",
       "      <th>1</th>\n",
       "      <td>1651</td>\n",
       "      <td>737</td>\n",
       "      <td>1</td>\n",
       "      <td>2015-01-13</td>\n",
       "      <td>11:31:34</td>\n",
       "      <td>16.75</td>\n",
       "      <td>16.75</td>\n",
       "      <td>M</td>\n",
       "      <td>Chicken</td>\n",
       "      <td>The Barbecue Chicken Pizza</td>\n",
       "      <td>bbq_ckn_l</td>\n",
       "      <td>Red Peppers</td>\n",
       "      <td>15.0</td>\n",
       "    </tr>\n",
       "    <tr>\n",
       "      <th>2</th>\n",
       "      <td>1651</td>\n",
       "      <td>737</td>\n",
       "      <td>1</td>\n",
       "      <td>2015-01-13</td>\n",
       "      <td>11:31:34</td>\n",
       "      <td>16.75</td>\n",
       "      <td>16.75</td>\n",
       "      <td>M</td>\n",
       "      <td>Chicken</td>\n",
       "      <td>The Barbecue Chicken Pizza</td>\n",
       "      <td>bbq_ckn_l</td>\n",
       "      <td>Green Peppers</td>\n",
       "      <td>20.0</td>\n",
       "    </tr>\n",
       "    <tr>\n",
       "      <th>3</th>\n",
       "      <td>1651</td>\n",
       "      <td>737</td>\n",
       "      <td>1</td>\n",
       "      <td>2015-01-13</td>\n",
       "      <td>11:31:34</td>\n",
       "      <td>16.75</td>\n",
       "      <td>16.75</td>\n",
       "      <td>M</td>\n",
       "      <td>Chicken</td>\n",
       "      <td>The Barbecue Chicken Pizza</td>\n",
       "      <td>bbq_ckn_l</td>\n",
       "      <td>Tomatoes</td>\n",
       "      <td>30.0</td>\n",
       "    </tr>\n",
       "    <tr>\n",
       "      <th>4</th>\n",
       "      <td>1651</td>\n",
       "      <td>737</td>\n",
       "      <td>1</td>\n",
       "      <td>2015-01-13</td>\n",
       "      <td>11:31:34</td>\n",
       "      <td>16.75</td>\n",
       "      <td>16.75</td>\n",
       "      <td>M</td>\n",
       "      <td>Chicken</td>\n",
       "      <td>The Barbecue Chicken Pizza</td>\n",
       "      <td>bbq_ckn_l</td>\n",
       "      <td>Red Onions</td>\n",
       "      <td>60.0</td>\n",
       "    </tr>\n",
       "    <tr>\n",
       "      <th>...</th>\n",
       "      <td>...</td>\n",
       "      <td>...</td>\n",
       "      <td>...</td>\n",
       "      <td>...</td>\n",
       "      <td>...</td>\n",
       "      <td>...</td>\n",
       "      <td>...</td>\n",
       "      <td>...</td>\n",
       "      <td>...</td>\n",
       "      <td>...</td>\n",
       "      <td>...</td>\n",
       "      <td>...</td>\n",
       "      <td>...</td>\n",
       "    </tr>\n",
       "    <tr>\n",
       "      <th>458205</th>\n",
       "      <td>48620</td>\n",
       "      <td>21350</td>\n",
       "      <td>1</td>\n",
       "      <td>2015-12-31</td>\n",
       "      <td>23:02:05</td>\n",
       "      <td>12.75</td>\n",
       "      <td>12.75</td>\n",
       "      <td>S</td>\n",
       "      <td>Chicken</td>\n",
       "      <td>The Barbecue Chicken Pizza</td>\n",
       "      <td>bbq_ckn_s</td>\n",
       "      <td>Red Peppers</td>\n",
       "      <td>5.0</td>\n",
       "    </tr>\n",
       "    <tr>\n",
       "      <th>458206</th>\n",
       "      <td>48620</td>\n",
       "      <td>21350</td>\n",
       "      <td>1</td>\n",
       "      <td>2015-12-31</td>\n",
       "      <td>23:02:05</td>\n",
       "      <td>12.75</td>\n",
       "      <td>12.75</td>\n",
       "      <td>S</td>\n",
       "      <td>Chicken</td>\n",
       "      <td>The Barbecue Chicken Pizza</td>\n",
       "      <td>bbq_ckn_s</td>\n",
       "      <td>Green Peppers</td>\n",
       "      <td>20.0</td>\n",
       "    </tr>\n",
       "    <tr>\n",
       "      <th>458207</th>\n",
       "      <td>48620</td>\n",
       "      <td>21350</td>\n",
       "      <td>1</td>\n",
       "      <td>2015-12-31</td>\n",
       "      <td>23:02:05</td>\n",
       "      <td>12.75</td>\n",
       "      <td>12.75</td>\n",
       "      <td>S</td>\n",
       "      <td>Chicken</td>\n",
       "      <td>The Barbecue Chicken Pizza</td>\n",
       "      <td>bbq_ckn_s</td>\n",
       "      <td>Tomatoes</td>\n",
       "      <td>10.0</td>\n",
       "    </tr>\n",
       "    <tr>\n",
       "      <th>458208</th>\n",
       "      <td>48620</td>\n",
       "      <td>21350</td>\n",
       "      <td>1</td>\n",
       "      <td>2015-12-31</td>\n",
       "      <td>23:02:05</td>\n",
       "      <td>12.75</td>\n",
       "      <td>12.75</td>\n",
       "      <td>S</td>\n",
       "      <td>Chicken</td>\n",
       "      <td>The Barbecue Chicken Pizza</td>\n",
       "      <td>bbq_ckn_s</td>\n",
       "      <td>Red Onions</td>\n",
       "      <td>20.0</td>\n",
       "    </tr>\n",
       "    <tr>\n",
       "      <th>458209</th>\n",
       "      <td>48620</td>\n",
       "      <td>21350</td>\n",
       "      <td>1</td>\n",
       "      <td>2015-12-31</td>\n",
       "      <td>23:02:05</td>\n",
       "      <td>12.75</td>\n",
       "      <td>12.75</td>\n",
       "      <td>S</td>\n",
       "      <td>Chicken</td>\n",
       "      <td>The Barbecue Chicken Pizza</td>\n",
       "      <td>bbq_ckn_s</td>\n",
       "      <td>Barbecue Sauce</td>\n",
       "      <td>5.0</td>\n",
       "    </tr>\n",
       "  </tbody>\n",
       "</table>\n",
       "<p>458210 rows × 13 columns</p>\n",
       "</div>"
      ],
      "text/plain": [
       "        pizza_id  order_id  quantity order_date order_time  unit_price  \\\n",
       "0           1651       737         1 2015-01-13   11:31:34       16.75   \n",
       "1           1651       737         1 2015-01-13   11:31:34       16.75   \n",
       "2           1651       737         1 2015-01-13   11:31:34       16.75   \n",
       "3           1651       737         1 2015-01-13   11:31:34       16.75   \n",
       "4           1651       737         1 2015-01-13   11:31:34       16.75   \n",
       "...          ...       ...       ...        ...        ...         ...   \n",
       "458205     48620     21350         1 2015-12-31   23:02:05       12.75   \n",
       "458206     48620     21350         1 2015-12-31   23:02:05       12.75   \n",
       "458207     48620     21350         1 2015-12-31   23:02:05       12.75   \n",
       "458208     48620     21350         1 2015-12-31   23:02:05       12.75   \n",
       "458209     48620     21350         1 2015-12-31   23:02:05       12.75   \n",
       "\n",
       "        total_price pizza_size pizza_category                  pizza_name  \\\n",
       "0             16.75          M        Chicken  The Barbecue Chicken Pizza   \n",
       "1             16.75          M        Chicken  The Barbecue Chicken Pizza   \n",
       "2             16.75          M        Chicken  The Barbecue Chicken Pizza   \n",
       "3             16.75          M        Chicken  The Barbecue Chicken Pizza   \n",
       "4             16.75          M        Chicken  The Barbecue Chicken Pizza   \n",
       "...             ...        ...            ...                         ...   \n",
       "458205        12.75          S        Chicken  The Barbecue Chicken Pizza   \n",
       "458206        12.75          S        Chicken  The Barbecue Chicken Pizza   \n",
       "458207        12.75          S        Chicken  The Barbecue Chicken Pizza   \n",
       "458208        12.75          S        Chicken  The Barbecue Chicken Pizza   \n",
       "458209        12.75          S        Chicken  The Barbecue Chicken Pizza   \n",
       "\n",
       "       pizza_name_id  pizza_ingredients  Items_Qty_In_Grams  \n",
       "0          bbq_ckn_l  Barbecued Chicken                40.0  \n",
       "1          bbq_ckn_l        Red Peppers                15.0  \n",
       "2          bbq_ckn_l      Green Peppers                20.0  \n",
       "3          bbq_ckn_l           Tomatoes                30.0  \n",
       "4          bbq_ckn_l         Red Onions                60.0  \n",
       "...              ...                ...                 ...  \n",
       "458205     bbq_ckn_s        Red Peppers                 5.0  \n",
       "458206     bbq_ckn_s      Green Peppers                20.0  \n",
       "458207     bbq_ckn_s           Tomatoes                10.0  \n",
       "458208     bbq_ckn_s         Red Onions                20.0  \n",
       "458209     bbq_ckn_s     Barbecue Sauce                 5.0  \n",
       "\n",
       "[458210 rows x 13 columns]"
      ]
     },
     "execution_count": 54,
     "metadata": {},
     "output_type": "execute_result"
    }
   ],
   "source": [
    "merged_df"
   ]
  },
  {
   "cell_type": "markdown",
   "id": "3ff9d842-937b-4736-b8eb-46cd41121671",
   "metadata": {},
   "source": [
    "**EDA**"
   ]
  },
  {
   "cell_type": "markdown",
   "id": "7ef33f0e-7022-451c-87e4-19762c1e88e2",
   "metadata": {},
   "source": [
    "**Analyzing sales trends overtime**"
   ]
  },
  {
   "cell_type": "code",
   "execution_count": 55,
   "id": "196c577b-1866-4773-80cb-a2977bafa43f",
   "metadata": {},
   "outputs": [
    {
     "data": {
      "image/png": "[encoded data removed]",
      "text/plain": [
       "<Figure size 1200x600 with 1 Axes>"
      ]
     },
     "metadata": {},
     "output_type": "display_data"
    }
   ],
   "source": [
    "sales_overtime=merged_df.groupby('order_date')['total_price'].sum().reset_index()\n",
    "plt.figure(figsize=(12,6))\n",
    "sns.lineplot(data=sales_overtime,x='order_date',y='total_price')\n",
    "plt.title(\"Total Sales Over Time\")\n",
    "plt.xlabel('Date')\n",
    "plt.ylabel('Total Sales')\n",
    "plt.xticks(rotation=45)\n",
    "plt.show()"
   ]
  },
  {
   "cell_type": "code",
   "execution_count": 56,
   "id": "f4fde055-d117-41fc-a758-2aa6ad478116",
   "metadata": {},
   "outputs": [
    {
     "data": {
      "image/png": "[encoded data removed]",
      "text/plain": [
       "<Figure size 1200x600 with 1 Axes>"
      ]
     },
     "metadata": {},
     "output_type": "display_data"
    }
   ],
   "source": [
    "# Aggregate sales by pizza name\n",
    "pizza_sales = merged_df.groupby('pizza_name')['quantity'].sum().reset_index()\n",
    "\n",
    "# Sorting by quantity sold\n",
    "pizza_sales = pizza_sales.sort_values(by='quantity', ascending=False)\n",
    "\n",
    "# Ploting top 10 most popular pizzas\n",
    "plt.figure(figsize=(12,6))\n",
    "sns.barplot(data=pizza_sales.head(10), x='quantity', y='pizza_name', palette='viridis')\n",
    "plt.title('Top 10 Most Popular Pizzas')\n",
    "plt.xlabel('Quantity Sold')\n",
    "plt.ylabel('Pizza Name')\n",
    "plt.show()"
   ]
  },
  {
   "cell_type": "code",
   "execution_count": 57,
   "id": "7bd5ebc0-1cc7-4710-b108-8d51fed78762",
   "metadata": {},
   "outputs": [
    {
     "data": {
      "image/png": "[encoded data removed]",
      "text/plain": [
       "<Figure size 800x500 with 1 Axes>"
      ]
     },
     "metadata": {},
     "output_type": "display_data"
    }
   ],
   "source": [
    "# Ploting pizza size distribution\n",
    "size_sales = merged_df.groupby('pizza_size')['quantity'].sum().reset_index()\n",
    "\n",
    "plt.figure(figsize=(8,5))\n",
    "sns.barplot(data=size_sales, x='pizza_size', y='quantity', palette='coolwarm')\n",
    "plt.title('Sales by Pizza Size')\n",
    "plt.xlabel('Pizza Size')\n",
    "plt.ylabel('Quantity Sold')\n",
    "plt.show()"
   ]
  },
  {
   "cell_type": "code",
   "execution_count": 58,
   "id": "a45e6465-268e-4acc-81e1-d8e1184125f7",
   "metadata": {},
   "outputs": [
    {
     "data": {
      "image/png": "[encoded data removed]",
      "text/plain": [
       "<Figure size 800x500 with 1 Axes>"
      ]
     },
     "metadata": {},
     "output_type": "display_data"
    }
   ],
   "source": [
    "# Ploting pizza category distribution\n",
    "category_sales = merged_df.groupby('pizza_category')['quantity'].sum().reset_index()\n",
    "\n",
    "plt.figure(figsize=(8,5))\n",
    "sns.barplot(data=category_sales, x='pizza_category', y='quantity', palette='coolwarm')\n",
    "plt.title('Sales by Pizza Category')\n",
    "plt.xlabel('Pizza Category')\n",
    "plt.ylabel('Quantity Sold')\n",
    "plt.show()"
   ]
  },
  {
   "cell_type": "code",
   "execution_count": 59,
   "id": "8a4a8012-78bc-4e95-a048-b057423c12e9",
   "metadata": {},
   "outputs": [
    {
     "data": {
      "text/html": [
       "<div>\n",
       "<style scoped>\n",
       "    .dataframe tbody tr th:only-of-type {\n",
       "        vertical-align: middle;\n",
       "    }\n",
       "\n",
       "    .dataframe tbody tr th {\n",
       "        vertical-align: top;\n",
       "    }\n",
       "\n",
       "    .dataframe thead th {\n",
       "        text-align: right;\n",
       "    }\n",
       "</style>\n",
       "<table border=\"1\" class=\"dataframe\">\n",
       "  <thead>\n",
       "    <tr style=\"text-align: right;\">\n",
       "      <th></th>\n",
       "      <th>pizza_name</th>\n",
       "      <th>pizza_ingredients</th>\n",
       "      <th>Items_Qty_In_Grams</th>\n",
       "    </tr>\n",
       "  </thead>\n",
       "  <tbody>\n",
       "    <tr>\n",
       "      <th>0</th>\n",
       "      <td>The Barbecue Chicken Pizza</td>\n",
       "      <td>Barbecue Sauce</td>\n",
       "      <td>42330.0</td>\n",
       "    </tr>\n",
       "    <tr>\n",
       "      <th>1</th>\n",
       "      <td>The Barbecue Chicken Pizza</td>\n",
       "      <td>Barbecued Chicken</td>\n",
       "      <td>126990.0</td>\n",
       "    </tr>\n",
       "    <tr>\n",
       "      <th>2</th>\n",
       "      <td>The Barbecue Chicken Pizza</td>\n",
       "      <td>Green Peppers</td>\n",
       "      <td>77605.0</td>\n",
       "    </tr>\n",
       "    <tr>\n",
       "      <th>3</th>\n",
       "      <td>The Barbecue Chicken Pizza</td>\n",
       "      <td>Red Onions</td>\n",
       "      <td>169320.0</td>\n",
       "    </tr>\n",
       "    <tr>\n",
       "      <th>4</th>\n",
       "      <td>The Barbecue Chicken Pizza</td>\n",
       "      <td>Red Peppers</td>\n",
       "      <td>42330.0</td>\n",
       "    </tr>\n",
       "    <tr>\n",
       "      <th>...</th>\n",
       "      <td>...</td>\n",
       "      <td>...</td>\n",
       "      <td>...</td>\n",
       "    </tr>\n",
       "    <tr>\n",
       "      <th>174</th>\n",
       "      <td>The Vegetables + Vegetables Pizza</td>\n",
       "      <td>Red Onions</td>\n",
       "      <td>109320.0</td>\n",
       "    </tr>\n",
       "    <tr>\n",
       "      <th>175</th>\n",
       "      <td>The Vegetables + Vegetables Pizza</td>\n",
       "      <td>Red Peppers</td>\n",
       "      <td>27330.0</td>\n",
       "    </tr>\n",
       "    <tr>\n",
       "      <th>176</th>\n",
       "      <td>The Vegetables + Vegetables Pizza</td>\n",
       "      <td>Spinach</td>\n",
       "      <td>81990.0</td>\n",
       "    </tr>\n",
       "    <tr>\n",
       "      <th>177</th>\n",
       "      <td>The Vegetables + Vegetables Pizza</td>\n",
       "      <td>Tomatoes</td>\n",
       "      <td>54660.0</td>\n",
       "    </tr>\n",
       "    <tr>\n",
       "      <th>178</th>\n",
       "      <td>The Vegetables + Vegetables Pizza</td>\n",
       "      <td>Zucchini</td>\n",
       "      <td>54660.0</td>\n",
       "    </tr>\n",
       "  </tbody>\n",
       "</table>\n",
       "<p>179 rows × 3 columns</p>\n",
       "</div>"
      ],
      "text/plain": [
       "                            pizza_name  pizza_ingredients  Items_Qty_In_Grams\n",
       "0           The Barbecue Chicken Pizza     Barbecue Sauce             42330.0\n",
       "1           The Barbecue Chicken Pizza  Barbecued Chicken            126990.0\n",
       "2           The Barbecue Chicken Pizza      Green Peppers             77605.0\n",
       "3           The Barbecue Chicken Pizza         Red Onions            169320.0\n",
       "4           The Barbecue Chicken Pizza        Red Peppers             42330.0\n",
       "..                                 ...                ...                 ...\n",
       "174  The Vegetables + Vegetables Pizza         Red Onions            109320.0\n",
       "175  The Vegetables + Vegetables Pizza        Red Peppers             27330.0\n",
       "176  The Vegetables + Vegetables Pizza            Spinach             81990.0\n",
       "177  The Vegetables + Vegetables Pizza           Tomatoes             54660.0\n",
       "178  The Vegetables + Vegetables Pizza           Zucchini             54660.0\n",
       "\n",
       "[179 rows x 3 columns]"
      ]
     },
     "execution_count": 59,
     "metadata": {},
     "output_type": "execute_result"
    }
   ],
   "source": [
    "ingredient_usage = merged_df.groupby(['pizza_name', 'pizza_ingredients'])['Items_Qty_In_Grams'].sum().reset_index()\n",
    "ingredient_usage"
   ]
  },
  {
   "cell_type": "code",
   "execution_count": 60,
   "id": "1cd7daf6-fa8e-44b9-9eb5-be396f1900f2",
   "metadata": {},
   "outputs": [],
   "source": [
    "total_ingredient_usage = merged_df.groupby('pizza_ingredients')['Items_Qty_In_Grams'].sum().reset_index()"
   ]
  },
  {
   "cell_type": "code",
   "execution_count": 61,
   "id": "ab78f623-142a-4436-a41c-5896fd980668",
   "metadata": {},
   "outputs": [],
   "source": [
    "sales_df['order_date'] = pd.to_datetime(sales_df['order_date'])\n",
    "daily_sales = sales_df.groupby('order_date')['total_price'].sum().reset_index()"
   ]
  },
  {
   "cell_type": "markdown",
   "id": "20fa9fa4-76c6-43ee-bf11-2160b33072bd",
   "metadata": {},
   "source": [
    "**Predicting model**"
   ]
  },
  {
   "cell_type": "code",
   "execution_count": 62,
   "id": "221fdb0a-5557-428c-bbe1-50a04af92a42",
   "metadata": {},
   "outputs": [],
   "source": [
    "from statsmodels.tsa.statespace.sarimax import SARIMAX\n",
    "\n",
    "model = SARIMAX(daily_sales['total_price'], \n",
    "                order=(1, 1, 1),\n",
    "                seasonal_order=(1, 1, 1, 7))\n",
    "results = model.fit()\n",
    "forecast = results.get_forecast(steps=30)\n",
    "\n",
    "future_sales = forecast.predicted_mean"
   ]
  },
  {
   "cell_type": "code",
   "execution_count": 63,
   "id": "bc679526-66d1-4c91-af7d-4a18310117dc",
   "metadata": {},
   "outputs": [
    {
     "name": "stdout",
     "output_type": "stream",
     "text": [
      "MAPE: 0.21\n"
     ]
    }
   ],
   "source": [
    "from sklearn.metrics import mean_absolute_percentage_error\n",
    "\n",
    "y_true = daily_sales['total_price'][-30:]\n",
    "y_pred = forecast.predicted_mean\n",
    "\n",
    "mape = mean_absolute_percentage_error(y_true, y_pred)\n",
    "print(f'MAPE: {mape:.2f}')\n"
   ]
  },
  {
   "cell_type": "code",
   "execution_count": 64,
   "id": "f34b6fb4-c69b-4375-b4c7-a8859cc3d2c4",
   "metadata": {},
   "outputs": [],
   "source": [
    "future_sales = forecast.predicted_mean"
   ]
  },
  {
   "cell_type": "code",
   "execution_count": 65,
   "id": "34040d86-e050-4318-afaf-49c089740072",
   "metadata": {},
   "outputs": [],
   "source": [
    "from statsmodels.tsa.statespace.sarimax import SARIMAX\n",
    "def model(df, pizza_name):\n",
    "    model = SARIMAX(df[pizza_name], \n",
    "                    order=(1, 1, 1),\n",
    "                    seasonal_order=(1, 1, 1, 7))\n",
    "    results = model.fit()\n",
    "    forecast = results.get_forecast(steps=30)\n",
    "    future_sales = forecast.predicted_mean\n",
    "    return future_sales"
   ]
  },
  {
   "cell_type": "code",
   "execution_count": 66,
   "id": "9ebda056-17f5-4fa9-acb1-5f66cfb55b62",
   "metadata": {},
   "outputs": [],
   "source": [
    "# Pivot table to get pizza names as columns and order_date as index\n",
    "pivot_table_pizzaname = sales_df.pivot_table(index='order_date', columns='pizza_name', values='quantity', aggfunc='sum', fill_value=0)\n",
    "pivot_table_pizzaname = pivot_table_pizzaname.reset_index()"
   ]
  },
  {
   "cell_type": "code",
   "execution_count": 67,
   "id": "fb408e39-5204-4ff0-bb00-b9141935ac60",
   "metadata": {},
   "outputs": [],
   "source": [
    "pizza_names = list(sales_df['pizza_name'].unique())"
   ]
  },
  {
   "cell_type": "code",
   "execution_count": 68,
   "id": "1f4ec65f-5fc6-48ef-9199-7d1e4130b988",
   "metadata": {},
   "outputs": [],
   "source": [
    "pizza_name_forecaset_dict = {}\n",
    "for pizza_name in pizza_names:\n",
    "    forescast = model(pivot_table_pizzaname, pizza_name)\n",
    "    forescast = pd.DataFrame(forescast)\n",
    "    forescast = list(forescast['predicted_mean'])\n",
    "    pizza_name_forecaset_dict[pizza_name] = forescast"
   ]
  },
  {
   "cell_type": "code",
   "execution_count": 69,
   "id": "f658b275-157f-4f44-809b-1a3b97a32d45",
   "metadata": {},
   "outputs": [
    {
     "data": {
      "text/html": [
       "<div>\n",
       "<style scoped>\n",
       "    .dataframe tbody tr th:only-of-type {\n",
       "        vertical-align: middle;\n",
       "    }\n",
       "\n",
       "    .dataframe tbody tr th {\n",
       "        vertical-align: top;\n",
       "    }\n",
       "\n",
       "    .dataframe thead th {\n",
       "        text-align: right;\n",
       "    }\n",
       "</style>\n",
       "<table border=\"1\" class=\"dataframe\">\n",
       "  <thead>\n",
       "    <tr style=\"text-align: right;\">\n",
       "      <th></th>\n",
       "      <th>pizza_name_id</th>\n",
       "      <th>pizza_name</th>\n",
       "      <th>pizza_ingredients</th>\n",
       "      <th>Items_Qty_In_Grams</th>\n",
       "    </tr>\n",
       "  </thead>\n",
       "  <tbody>\n",
       "    <tr>\n",
       "      <th>0</th>\n",
       "      <td>bbq_ckn_l</td>\n",
       "      <td>The Barbecue Chicken Pizza</td>\n",
       "      <td>Barbecued Chicken</td>\n",
       "      <td>40.0</td>\n",
       "    </tr>\n",
       "    <tr>\n",
       "      <th>1</th>\n",
       "      <td>bbq_ckn_l</td>\n",
       "      <td>The Barbecue Chicken Pizza</td>\n",
       "      <td>Red Peppers</td>\n",
       "      <td>15.0</td>\n",
       "    </tr>\n",
       "    <tr>\n",
       "      <th>2</th>\n",
       "      <td>bbq_ckn_l</td>\n",
       "      <td>The Barbecue Chicken Pizza</td>\n",
       "      <td>Green Peppers</td>\n",
       "      <td>20.0</td>\n",
       "    </tr>\n",
       "    <tr>\n",
       "      <th>3</th>\n",
       "      <td>bbq_ckn_l</td>\n",
       "      <td>The Barbecue Chicken Pizza</td>\n",
       "      <td>Tomatoes</td>\n",
       "      <td>30.0</td>\n",
       "    </tr>\n",
       "    <tr>\n",
       "      <th>4</th>\n",
       "      <td>bbq_ckn_l</td>\n",
       "      <td>The Barbecue Chicken Pizza</td>\n",
       "      <td>Red Onions</td>\n",
       "      <td>60.0</td>\n",
       "    </tr>\n",
       "    <tr>\n",
       "      <th>...</th>\n",
       "      <td>...</td>\n",
       "      <td>...</td>\n",
       "      <td>...</td>\n",
       "      <td>...</td>\n",
       "    </tr>\n",
       "    <tr>\n",
       "      <th>513</th>\n",
       "      <td>veggie_veg_s</td>\n",
       "      <td>The Vegetables + Vegetables Pizza</td>\n",
       "      <td>Green Peppers</td>\n",
       "      <td>20.0</td>\n",
       "    </tr>\n",
       "    <tr>\n",
       "      <th>514</th>\n",
       "      <td>veggie_veg_s</td>\n",
       "      <td>The Vegetables + Vegetables Pizza</td>\n",
       "      <td>Red Onions</td>\n",
       "      <td>20.0</td>\n",
       "    </tr>\n",
       "    <tr>\n",
       "      <th>515</th>\n",
       "      <td>veggie_veg_s</td>\n",
       "      <td>The Vegetables + Vegetables Pizza</td>\n",
       "      <td>Zucchini</td>\n",
       "      <td>10.0</td>\n",
       "    </tr>\n",
       "    <tr>\n",
       "      <th>516</th>\n",
       "      <td>veggie_veg_s</td>\n",
       "      <td>The Vegetables + Vegetables Pizza</td>\n",
       "      <td>Spinach</td>\n",
       "      <td>15.0</td>\n",
       "    </tr>\n",
       "    <tr>\n",
       "      <th>517</th>\n",
       "      <td>veggie_veg_s</td>\n",
       "      <td>The Vegetables + Vegetables Pizza</td>\n",
       "      <td>Garlic</td>\n",
       "      <td>5.0</td>\n",
       "    </tr>\n",
       "  </tbody>\n",
       "</table>\n",
       "<p>514 rows × 4 columns</p>\n",
       "</div>"
      ],
      "text/plain": [
       "    pizza_name_id                         pizza_name  pizza_ingredients  \\\n",
       "0       bbq_ckn_l         The Barbecue Chicken Pizza  Barbecued Chicken   \n",
       "1       bbq_ckn_l         The Barbecue Chicken Pizza        Red Peppers   \n",
       "2       bbq_ckn_l         The Barbecue Chicken Pizza      Green Peppers   \n",
       "3       bbq_ckn_l         The Barbecue Chicken Pizza           Tomatoes   \n",
       "4       bbq_ckn_l         The Barbecue Chicken Pizza         Red Onions   \n",
       "..            ...                                ...                ...   \n",
       "513  veggie_veg_s  The Vegetables + Vegetables Pizza      Green Peppers   \n",
       "514  veggie_veg_s  The Vegetables + Vegetables Pizza         Red Onions   \n",
       "515  veggie_veg_s  The Vegetables + Vegetables Pizza           Zucchini   \n",
       "516  veggie_veg_s  The Vegetables + Vegetables Pizza            Spinach   \n",
       "517  veggie_veg_s  The Vegetables + Vegetables Pizza             Garlic   \n",
       "\n",
       "     Items_Qty_In_Grams  \n",
       "0                  40.0  \n",
       "1                  15.0  \n",
       "2                  20.0  \n",
       "3                  30.0  \n",
       "4                  60.0  \n",
       "..                  ...  \n",
       "513                20.0  \n",
       "514                20.0  \n",
       "515                10.0  \n",
       "516                15.0  \n",
       "517                 5.0  \n",
       "\n",
       "[514 rows x 4 columns]"
      ]
     },
     "execution_count": 69,
     "metadata": {},
     "output_type": "execute_result"
    }
   ],
   "source": [
    "ingredients_df"
   ]
  },
  {
   "cell_type": "code",
   "execution_count": 70,
   "id": "5a64b8ca-2e0c-4fe2-8466-fa9d58186683",
   "metadata": {},
   "outputs": [],
   "source": [
    "# Pivot table to get pizza names as columns and order_date as index\n",
    "pivot_table_ingredients = ingredients_df.pivot_table(index='pizza_name', columns='pizza_ingredients', values='Items_Qty_In_Grams', aggfunc='sum', fill_value=0)\n"
   ]
  },
  {
   "cell_type": "code",
   "execution_count": 71,
   "id": "e2fc8114-040b-4c33-b7df-930923a9fe69",
   "metadata": {},
   "outputs": [],
   "source": [
    "ingredients = list(pivot_table_ingredients.columns)"
   ]
  },
  {
   "cell_type": "code",
   "execution_count": 72,
   "id": "bcd0af2a-f5ad-4476-9326-5cc59079964a",
   "metadata": {},
   "outputs": [
    {
     "data": {
      "text/plain": [
       "['The Barbecue Chicken Pizza',\n",
       " 'The Big Meat Pizza',\n",
       " 'The Brie Carre Pizza',\n",
       " 'The Calabrese Pizza',\n",
       " 'The California Chicken Pizza',\n",
       " 'The Chicken Alfredo Pizza',\n",
       " 'The Chicken Pesto Pizza',\n",
       " 'The Classic Deluxe Pizza',\n",
       " 'The Five Cheese Pizza',\n",
       " 'The Four Cheese Pizza',\n",
       " 'The Greek Pizza',\n",
       " 'The Green Garden Pizza',\n",
       " 'The Hawaiian Pizza',\n",
       " 'The Italian Capocollo Pizza',\n",
       " 'The Italian Supreme Pizza',\n",
       " 'The Italian Vegetables Pizza',\n",
       " 'The Mediterranean Pizza',\n",
       " 'The Mexicana Pizza',\n",
       " 'The Napolitana Pizza',\n",
       " 'The Pepper Salami Pizza',\n",
       " 'The Pepperoni Pizza',\n",
       " 'The Pepperoni, Mushroom, and Peppers Pizza',\n",
       " 'The Prosciutto and Arugula Pizza',\n",
       " 'The Sicilian Pizza',\n",
       " 'The Soppressata Pizza',\n",
       " 'The Southwest Chicken Pizza',\n",
       " 'The Spicy Italian Pizza',\n",
       " 'The Spinach Pesto Pizza',\n",
       " 'The Spinach Supreme Pizza',\n",
       " 'The Spinach and Feta Pizza',\n",
       " 'The Thai Chicken Pizza',\n",
       " 'The Vegetables + Vegetables Pizza']"
      ]
     },
     "execution_count": 72,
     "metadata": {},
     "output_type": "execute_result"
    }
   ],
   "source": [
    "list(pivot_table_ingredients.index)"
   ]
  }
 ],
 "metadata": {
  "kernelspec": {
   "display_name": "Python 3 (ipykernel)",
   "language": "python",
   "name": "python3"
  },
  "language_info": {
   "codemirror_mode": {
    "name": "ipython",
    "version": 3
   },
   "file_extension": ".py",
   "mimetype": "text/x-python",
   "name": "python",
   "nbconvert_exporter": "python",
   "pygments_lexer": "ipython3",
   "version": "3.12.3"
  },
  "widgets": {
   "application/vnd.jupyter.widget-state+json": {
    "state": {},
    "version_major": 2,
    "version_minor": 0
   }
  }
 },
 "nbformat": 4,
 "nbformat_minor": 5
}
